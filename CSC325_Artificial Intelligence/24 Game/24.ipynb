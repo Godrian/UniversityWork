{
  "nbformat": 4,
  "nbformat_minor": 0,
  "metadata": {
    "colab": {
      "name": "24.ipynb",
      "provenance": [],
      "collapsed_sections": []
    },
    "kernelspec": {
      "name": "python3",
      "display_name": "Python 3"
    }
  },
  "cells": [
    {
      "cell_type": "markdown",
      "metadata": {
        "id": "UyKPprSH0OQm"
      },
      "source": [
        "Function `rand_numbers` is chosing random numbers from the range that is specified. It puts those numbers into a list and return this list"
      ]
    },
    {
      "cell_type": "code",
      "metadata": {
        "id": "4dh74vjHw3Nx"
      },
      "source": [
        "import random\n",
        "def rand_numbers():\n",
        "  random_list = []\n",
        "  for i in range(0,4):\n",
        "    n = random.randint(1,13)\n",
        "    random_list.append(n)\n",
        "  return random_list"
      ],
      "execution_count": null,
      "outputs": []
    },
    {
      "cell_type": "markdown",
      "metadata": {
        "id": "2P6WhdIr3NDZ"
      },
      "source": [
        "Function `twenty_four_multi` is a recurive function that check every combination of numbers in the list by adding, multipling, dividing and subtracting them. But fistly before doing these calculations it checks if length of the list with numbers is **1** and if that number is equal to 24. "
      ]
    },
    {
      "cell_type": "code",
      "metadata": {
        "id": "9OC-AGh8uUPR"
      },
      "source": [
        "def  twenty_four_multi(numbers,calculation,target):\n",
        "  # reading the length of the numbers list \n",
        "  length = len(numbers)\n",
        "  # checking if the length list is one and the target is met \n",
        "  if(length == 1 and numbers[0] == target):\n",
        "    print(\"Solution:\" + calculation)\n",
        "  else:\n",
        "    # double for loop so it goes every possible outcome of neighbouring numbers   \n",
        "    for i in range(0,length-1):\n",
        "      for j in range(1,length):\n",
        "        # this simple if checks position in the list if next position is higher, so there won't be double outcome \n",
        "        if(j > i):          \n",
        "          result = numbers.copy()\n",
        "\n",
        "          add = numbers[i]+numbers[j]\n",
        "          calAdd = calculation + \" \" + str(numbers[i]) + \" + \" + str(numbers[j]) + \",\"\n",
        "         \n",
        "          multi = numbers[i]*numbers[j]\n",
        "          multiAdd = calculation + \" \" +  str(numbers[i])+\" * \"+ str(numbers[j]) + \",\"\n",
        "          \n",
        "          subtr1 = numbers[i]-numbers[j]\n",
        "          subtr1Add = calculation + \" \" +  str(numbers[i])+\" - \"+ str(numbers[j]) + \",\"\n",
        "          \n",
        "          if(numbers[j] != 0):\n",
        "            div1 = numbers[i]//numbers[j]\n",
        "            div1Add = calculation + \" \" +  str(numbers[i])+\" / \"+ str(numbers[j]) + \",\"\n",
        "          else:\n",
        "            div1 = numbers[i]\n",
        "            div1Add = calculation + \" \" +  str(numbers[i])+\" / 0 , \" \n",
        "          \n",
        "          subtr2 = numbers[j]-numbers[i]\n",
        "          subtr2Add = calculation + \" \" +  str(numbers[j])+\" - \"+ str(numbers[i]) + \",\"\n",
        "         \n",
        "          if(numbers[i] != 0):\n",
        "            div2 = numbers[j]//numbers[i]\n",
        "            div2Add = calculation + \" \" +  str(numbers[j])+\" / \"+ str(numbers[i]) + \",\"\n",
        "          else:\n",
        "            div2 = numbers[j]\n",
        "            div2Add = calculation + \" \" +  str(numbers[j])+\" / 0 , \"\n",
        "  \n",
        "          result.remove(numbers[j])\n",
        "          result.remove(numbers[i])\n",
        "  \n",
        "          result.insert(0,add)\n",
        "          twenty_four_multi(result, calAdd, target)\n",
        "          result.remove(result[0])\n",
        "          result.insert(0,multi)\n",
        "          twenty_four_multi(result, multiAdd, target)\n",
        "          result.remove(result[0])\n",
        "          result.insert(0,subtr1)\n",
        "          twenty_four_multi(result, subtr1Add, target)\n",
        "          result.remove(result[0])\n",
        "          result.insert(0,div1)\n",
        "          twenty_four_multi(result, div1Add, target)\n",
        "          result.remove(result[0])\n",
        "          result.insert(0,subtr2)\n",
        "          twenty_four_multi(result, subtr2Add, target)\n",
        "          result.remove(result[0])\n",
        "          result.insert(0,div2)\n",
        "          twenty_four_multi(result, div2Add, target)\n",
        "  \n",
        "          "
      ],
      "execution_count": null,
      "outputs": []
    },
    {
      "cell_type": "markdown",
      "metadata": {
        "id": "Kz8hMIO75nkB"
      },
      "source": [
        "Function `twenty_four_multi` is a recurive function that check every combination of numbers in the list by adding, multipling, dividing and subtracting them. But fistly before doing these calculations it checks if length of the list with numbers is 1 and if that number is equal to 24."
      ]
    },
    {
      "cell_type": "code",
      "metadata": {
        "id": "ALEwdc5X1hhr"
      },
      "source": [
        "def twenty_four_one(numbers,calculation,target, wynik):\n",
        "  # reading the length of the numbers list \n",
        "  length = len(numbers)\n",
        "  # checking if the length list is one and the target is met\n",
        "  if(length == 1 and numbers[0] == target):\n",
        "    wynik[0] = calculation\n",
        "  else:\n",
        "    # double for loop so it goes every possible outcome of neighbouring numbers\n",
        "    for i in range(0,length-1):\n",
        "      for j in range(1,length):\n",
        "         # this simple if checks position in the list if next position is higher, so there won't be double outcome\n",
        "        if(j != i):          \n",
        "          result = numbers.copy()\n",
        "  \n",
        "          add = numbers[i]+numbers[j]\n",
        "          calAdd = calculation + \" \" + str(numbers[i]) + \" + \" + str(numbers[j]) + \",\"\n",
        "         \n",
        "          multi = numbers[i]*numbers[j]\n",
        "          multiAdd = calculation + \" \" +  str(numbers[i])+\" * \"+ str(numbers[j]) + \",\"\n",
        "          \n",
        "          subtr1 = numbers[i]-numbers[j]\n",
        "          subtr1Add = calculation + \" \" +  str(numbers[i])+\" - \"+ str(numbers[j]) + \",\"\n",
        "          \n",
        "          if(numbers[j] != 0):\n",
        "            div1 = numbers[i]//numbers[j]\n",
        "            div1Add = calculation + \" \" +  str(numbers[i])+\" / \"+ str(numbers[j]) + \",\"\n",
        "          else:\n",
        "            div1 = numbers[i]\n",
        "            div1Add = calculation + \" \" +  str(numbers[i])+\" / 1 , \" \n",
        "          \n",
        "          subtr2 = numbers[j]-numbers[i]\n",
        "          subtr2Add = calculation + \" \" +  str(numbers[j])+\" - \"+ str(numbers[i]) + \",\"\n",
        "         \n",
        "          if(numbers[i] != 0):\n",
        "            div2 = numbers[j]//numbers[i]\n",
        "            div2Add = calculation + \" \" +  str(numbers[j])+\" / \"+ str(numbers[i]) + \",\"\n",
        "          else:\n",
        "            div2 = numbers[j]\n",
        "            div2Add = calculation + \" \" +  str(numbers[j])+\" / 1 , \"\n",
        "  \n",
        "          result.remove(numbers[j])\n",
        "          result.remove(numbers[i])\n",
        "\n",
        "          result.insert(0,add)\n",
        "          twenty_four_one(result, calAdd, target, wynik)\n",
        "          result.remove(result[0])\n",
        "\n",
        "          result.insert(0,multi)\n",
        "          twenty_four_one(result, multiAdd, target, wynik)\n",
        "          result.remove(result[0])\n",
        "\n",
        "          result.insert(0,subtr1)\n",
        "          twenty_four_one(result, subtr1Add, target, wynik)\n",
        "          result.remove(result[0])\n",
        "\n",
        "          result.insert(0,div1)\n",
        "          twenty_four_one(result, div1Add, target, wynik)\n",
        "          result.remove(result[0])\n",
        "\n",
        "          result.insert(0,subtr2)\n",
        "          twenty_four_one(result, subtr2Add, target, wynik)\n",
        "          result.remove(result[0])\n",
        "\n",
        "          result.insert(0,div2)\n",
        "          twenty_four_one(result, div2Add, target, wynik)\n",
        "  \n",
        "          "
      ],
      "execution_count": null,
      "outputs": []
    },
    {
      "cell_type": "code",
      "metadata": {
        "id": "InWpHuMUtMiq"
      },
      "source": [
        "def start_multi():\n",
        "  give_num = rand_numbers()\n",
        "  print(give_num)\n",
        "  return twenty_four_multi(give_num, \"\", 24)"
      ],
      "execution_count": null,
      "outputs": []
    },
    {
      "cell_type": "code",
      "metadata": {
        "id": "2ES2gkSbGg4q",
        "colab": {
          "base_uri": "https://localhost:8080/"
        },
        "outputId": "46879898-375d-4620-8304-0ff0a0c756c5"
      },
      "source": [
        "start_multi()"
      ],
      "execution_count": null,
      "outputs": [
        {
          "output_type": "stream",
          "text": [
            "[12, 11, 10, 8]\n",
            "Solution: 12 + 11, 10 / 8, 1 + 23,\n",
            "Solution: 11 + 10, 21 / 8, 2 * 12,\n",
            "Solution: 10 / 8, 1 + 12, 13 + 11,\n",
            "Solution: 10 / 8, 1 + 11, 12 + 12,\n",
            "Solution: 10 / 8, 12 + 11, 23 + 1,\n"
          ],
          "name": "stdout"
        }
      ]
    },
    {
      "cell_type": "code",
      "metadata": {
        "id": "omp74Me3Pjxm"
      },
      "source": [
        "def start_one():\n",
        "  give_num = rand_numbers()\n",
        "  print(\"Numbers: \" + str(give_num))\n",
        "  result = [\"\"]\n",
        "  twenty_four_one(give_num, \"\", 24, result)\n",
        "  print(\"Solution:\" + result[0])"
      ],
      "execution_count": null,
      "outputs": []
    },
    {
      "cell_type": "code",
      "metadata": {
        "colab": {
          "base_uri": "https://localhost:8080/"
        },
        "id": "Z55W_S0lrVV2",
        "outputId": "44b2a54b-8b4a-4aee-bbb9-38abdb09ed26"
      },
      "source": [
        "start_one()"
      ],
      "execution_count": null,
      "outputs": [
        {
          "output_type": "stream",
          "text": [
            "Numbers: [10, 10, 13, 9]\n",
            "Solution: 9 - 13, 10 + 10, 20 - -4,\n"
          ],
          "name": "stdout"
        }
      ]
    }
  ]
}