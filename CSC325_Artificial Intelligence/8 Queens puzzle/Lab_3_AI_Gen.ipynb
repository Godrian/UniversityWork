{
  "nbformat": 4,
  "nbformat_minor": 0,
  "metadata": {
    "colab": {
      "name": "Lab_3_AI-Gen.ipynb",
      "provenance": [],
      "collapsed_sections": []
    },
    "kernelspec": {
      "name": "python3",
      "display_name": "Python 3"
    }
  },
  "cells": [
    {
      "cell_type": "code",
      "metadata": {
        "colab": {
          "base_uri": "https://localhost:8080/"
        },
        "id": "8pRuBUFNZ2UB",
        "outputId": "eb2d92b8-ad60-49cd-ecf7-95ba802095e1"
      },
      "source": [
        "  import random\n",
        "  import time\n",
        "\n",
        "def random_chromosome(size): #making random chromosomes \n",
        "    return [ random.randint(1, nq) for _ in range(nq) ]\n",
        "\n",
        "def fitness(chromosome):\n",
        "    horizontal_collisions = sum([chromosome.count(queen)-1 for queen in chromosome])/2\n",
        "    diagonal_collisions = 0\n",
        "\n",
        "    n = len(chromosome)\n",
        "    left_diagonal = [0] * 2*n\n",
        "    right_diagonal = [0] * 2*n\n",
        "    for i in range(n):\n",
        "        left_diagonal[i + chromosome[i] - 1] += 1\n",
        "        right_diagonal[len(chromosome) - i + chromosome[i] - 2] += 1\n",
        "\n",
        "    diagonal_collisions = 0\n",
        "    for i in range(2*n-1):\n",
        "        counter = 0\n",
        "        if left_diagonal[i] > 1:\n",
        "            counter += left_diagonal[i]-1\n",
        "        if right_diagonal[i] > 1:\n",
        "            counter += right_diagonal[i]-1\n",
        "        diagonal_collisions += counter / (n-abs(i-n+1))\n",
        "    \n",
        "    return int(maxFitness - (horizontal_collisions + diagonal_collisions)) #28-(2+3)=23\n",
        "\n",
        "def probability(chromosome, fitness):\n",
        "    return fitness(chromosome) / maxFitness\n",
        "\n",
        "def random_pick(population, probabilities):\n",
        "    populationWithProbabilty = zip(population, probabilities)\n",
        "    total = sum(w for c, w in populationWithProbabilty)\n",
        "    r = random.uniform(0, total)\n",
        "    upto = 0\n",
        "    for c, w in zip(population, probabilities):\n",
        "        if upto + w >= r:\n",
        "            return c\n",
        "        upto += w\n",
        "        \n",
        "def reproduce(x, y): #doing cross_over between two chromosomes\n",
        "    n = len(x)\n",
        "    c = random.randint(0, n - 1)\n",
        "    return x[0:c] + y[c:n]\n",
        "\n",
        "def mutate(x):  #randomly changing the value of a random index of a chromosome\n",
        "    n = len(x)\n",
        "    c = random.randint(0, n - 1)\n",
        "    m = random.randint(1, n)\n",
        "    x[c] = m\n",
        "    return x\n",
        "\n",
        "def genetic_queen(population, fitness):\n",
        "    mutation_probability = 0.03\n",
        "    new_population = []\n",
        "    probabilities = [probability(n, fitness) for n in population]\n",
        "    for i in range(len(population)):\n",
        "        x = random_pick(population, probabilities) #best chromosome 1\n",
        "        y = random_pick(population, probabilities) #best chromosome 2\n",
        "        child = reproduce(x, y) #creating two new chromosomes from the best 2 chromosomes\n",
        "        if random.random() < mutation_probability:\n",
        "            child = mutate(child)\n",
        "        # print_chromosome(child)\n",
        "        new_population.append(child)\n",
        "        if fitness(child) == maxFitness: break\n",
        "    return new_population\n",
        "\n",
        "def print_chromosome(chrom):\n",
        "    print(\"Chromosome = {},  Fitness = {}\"\n",
        "        .format(str(chrom), fitness(chrom)))\n",
        "\n",
        "if __name__ == \"__main__\":\n",
        "    nq = int(input(\"Enter Number of Queens: \")) #say N = 8\n",
        "    start_time = time.time()\n",
        "    maxFitness = (nq*(nq-1))/2  # 8*7/2 = 28\n",
        "    population = [random_chromosome(nq) for _ in range(100)]\n",
        "    \n",
        "    generation = 1\n",
        "\n",
        "    while not maxFitness in [fitness(chrom) for chrom in population]:\n",
        "        # print(\"=== Generation {} ===\".format(generation))\n",
        "        population = genetic_queen(population, fitness)\n",
        "        # print(\"\")\n",
        "        # print(\"Maximum Fitness = {}\".format(max([fitness(n) for n in population])))\n",
        "        generation += 1\n",
        "    chrom_out = []\n",
        "    print(\"Solved in Generation {}!\".format(generation-1))\n",
        "    for chrom in population:\n",
        "        if fitness(chrom) == maxFitness:\n",
        "          time_sec = time.time() - start_time\n",
        "          print(\"Time passed: {}\".format(time_sec))\n",
        "          print(\"\");\n",
        "          print(\"One of the solutions: \")\n",
        "          chrom_out = chrom\n",
        "          print_chromosome(chrom)\n",
        "            "
      ],
      "execution_count": null,
      "outputs": [
        {
          "output_type": "stream",
          "text": [
            "Enter Number of Queens: 8\n",
            "Solved in Generation 3426!\n",
            "Time passed: 20.635716199874878\n",
            "\n",
            "One of the solutions: \n",
            "Chromosome = [7, 2, 6, 3, 1, 4, 8, 5],  Fitness = 28\n"
          ],
          "name": "stdout"
        }
      ]
    },
    {
      "cell_type": "code",
      "metadata": {
        "id": "p4p0iqU16EBp"
      },
      "source": [
        ""
      ],
      "execution_count": null,
      "outputs": []
    }
  ]
}